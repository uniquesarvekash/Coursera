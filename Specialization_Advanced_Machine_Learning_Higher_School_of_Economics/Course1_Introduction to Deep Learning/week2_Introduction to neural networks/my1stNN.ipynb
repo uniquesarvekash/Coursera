{
 "cells": [
  {
   "cell_type": "code",
   "execution_count": 2,
   "metadata": {
    "collapsed": false
   },
   "outputs": [
    {
     "name": "stdout",
     "output_type": "stream",
     "text": [
      "(50000, 28, 28) (50000,)\n"
     ]
    },
    {
     "data": {
      "image/png": "[encoded data removed]",
      "text/plain": [
       "<matplotlib.figure.Figure at 0x26a2dcaac8>"
      ]
     },
     "metadata": {},
     "output_type": "display_data"
    }
   ],
   "source": [
    "#from preprocessed_mnist import load_dataset\n",
    "X_train, y_train, X_val, y_val, X_test, y_test = load_dataset()\n",
    "print(X_train.shape, y_train.shape)\n",
    "import matplotlib.pyplot as plt\n",
    "%matplotlib inline\n",
    "plt.imshow(X_train[0], cmap=\"Greys\");"
   ]
  },
  {
   "cell_type": "code",
   "execution_count": 3,
   "metadata": {
    "collapsed": true
   },
   "outputs": [],
   "source": [
    "import tensorflow as tf\n",
    "from sklearn.metrics import accuracy_score\n",
    "from sklearn.utils import shuffle\n",
    "import time"
   ]
  },
  {
   "cell_type": "markdown",
   "metadata": {},
   "source": [
    "# Build the network"
   ]
  },
  {
   "cell_type": "code",
   "execution_count": 4,
   "metadata": {
    "collapsed": true
   },
   "outputs": [],
   "source": [
    "hidden_1_size = 100\n",
    "hidden_2_size = 50\n",
    "g = tf.Graph()\n",
    "with g.as_default():\n",
    "    input_x = tf.placeholder(tf.float32,shape= [None,28,28])\n",
    "    input_y = tf.placeholder(tf.int32,shape=[None,])\n",
    "    \n",
    "    x = tf.reshape(input_x,[-1,28*28])\n",
    "    y = tf.one_hot(input_y,depth=10,axis=-1)\n",
    "    \n",
    "    w1 = tf.Variable(tf.truncated_normal([28*28,hidden_1_size],stddev=0.1),name='weight_1')\n",
    "    b1 = tf.Variable(tf.zeros([hidden_1_size]),name='bias_1')\n",
    "    w2 = tf.Variable(tf.truncated_normal([hidden_1_size,hidden_2_size],stddev=0.1),name='weight_2')\n",
    "    b2 = tf.Variable(tf.zeros([hidden_2_size]),name='bias_1')\n",
    "    w3 = tf.Variable(tf.truncated_normal([hidden_2_size,10],stddev=0.1),name='weight_3')\n",
    "    b3 = tf.Variable(tf.zeros([10,]),name = 'bias_3')\n",
    "\n",
    "    \n",
    "    fc1 = tf.nn.relu(tf.nn.bias_add(tf.matmul(x,w1),b1))\n",
    "    fc2 = tf.nn.sigmoid(tf.nn.bias_add(tf.matmul(fc1,w2),b2))\n",
    "    \n",
    "    logits = tf.nn.bias_add(tf.matmul(fc2,w3),b3)\n",
    "    probs = tf.nn.softmax(logits)\n",
    "    preds = tf.argmax(logits,axis=1)\n",
    "    loss = tf.reduce_mean(tf.nn.softmax_cross_entropy_with_logits(labels=y,logits=logits))\n",
    "    optimizer = tf.train.AdamOptimizer().minimize(loss)"
   ]
  },
  {
   "cell_type": "markdown",
   "metadata": {},
   "source": [
    "# Training part"
   ]
  },
  {
   "cell_type": "code",
   "execution_count": 5,
   "metadata": {
    "collapsed": false
   },
   "outputs": [
    {
     "name": "stdout",
     "output_type": "stream",
     "text": [
      "epoch  0  train_acc  0.95026  val_acc  0.9549\n",
      "epoch  1  train_acc  0.96928  val_acc  0.9643\n",
      "epoch  2  train_acc  0.97826  val_acc  0.9708\n",
      "epoch  3  train_acc  0.98526  val_acc  0.9721\n",
      "epoch  4  train_acc  0.98894  val_acc  0.9742\n",
      "epoch  5  train_acc  0.98984  val_acc  0.9751\n",
      "epoch  6  train_acc  0.99016  val_acc  0.9757\n",
      "epoch  7  train_acc  0.9905  val_acc  0.9762\n",
      "epoch  8  train_acc  0.99052  val_acc  0.9764\n",
      "epoch  9  train_acc  0.99072  val_acc  0.9763\n",
      " test_acc  0.975\n",
      "total time  104.640798330307 seconds\n"
     ]
    }
   ],
   "source": [
    "X = X_train\n",
    "Y = y_train\n",
    "\n",
    "epochs = 10\n",
    "batch_size = 32\n",
    "iters = (X.shape[0] - 1)//batch_size + 1\n",
    "tr_loss_list = []\n",
    "test_loss_list = []\n",
    "time_start = time.time()\n",
    "lr = 0.001\n",
    "with tf.Session(graph=g) as sess:\n",
    "#-------training part--------------\n",
    "    sess.run(tf.global_variables_initializer())\n",
    "    for e in range(epochs):\n",
    "        X,Y = shuffle(X,Y)\n",
    "        if e==5:\n",
    "            optimizer = tf.train.GradientDescentOptimizer(lr).minimize(loss)\n",
    "            lr = lr *0.9\n",
    "        if e>5:\n",
    "            optimizer = tf.train.GradientDescentOptimizer(lr).minimize(loss)\n",
    "            lr = lr*0.9\n",
    "        for j in range(iters):\n",
    "            batch_x = X[j * batch_size:(j + 1) * batch_size,:]\n",
    "            batch_y = Y[j * batch_size:(j + 1) * batch_size]\n",
    "            _,batch_loss = sess.run([optimizer,loss],feed_dict={input_x:batch_x,input_y:batch_y})\n",
    "           \n",
    "        \n",
    "        pred_tr_y = sess.run(preds,{input_x:X_train,})\n",
    "        pred_val_y = sess.run(preds,{input_x:X_val})\n",
    "        tr_acc = accuracy_score(y_train,pred_tr_y)\n",
    "        val_acc = accuracy_score(y_val,pred_val_y)\n",
    "        print(\"epoch \",e,\" train_acc \",tr_acc,\" val_acc \",val_acc)\n",
    "        \n",
    "        tr_loss_list.append(sess.run(loss,{input_x:X_train,input_y:y_train}))\n",
    "        \n",
    "        test_loss_list.append(sess.run(loss,{input_x:X_test,input_y:y_test}))\n",
    "        \n",
    "        \n",
    "#----------------------evaluation part----------------\n",
    "    pred_test_y = sess.run(preds,{input_x:X_test})\n",
    "    test_acc = accuracy_score(y_test,pred_test_y)\n",
    "    print(\" test_acc \",test_acc)\n",
    "        \n",
    "print(\"total time \",time.time()-time_start,\"seconds\")\n"
   ]
  },
  {
   "cell_type": "code",
   "execution_count": 6,
   "metadata": {
    "collapsed": false
   },
   "outputs": [
    {
     "data": {
      "text/plain": [
       "<matplotlib.legend.Legend at 0x2680ffb978>"
      ]
     },
     "execution_count": 6,
     "metadata": {},
     "output_type": "execute_result"
    },
    {
     "data": {
      "image/png": "[encoded data removed]",
      "text/plain": [
       "<matplotlib.figure.Figure at 0x26aca39da0>"
      ]
     },
     "metadata": {},
     "output_type": "display_data"
    }
   ],
   "source": [
    "plt.plot(tr_loss_list,label='train loss')\n",
    "plt.plot(test_loss_list,label='test_loss')\n",
    "plt.legend()"
   ]
  },
  {
   "cell_type": "code",
   "execution_count": null,
   "metadata": {
    "collapsed": true
   },
   "outputs": [],
   "source": []
  }
 ],
 "metadata": {
  "kernelspec": {
   "display_name": "Python 3",
   "language": "python",
   "name": "python3"
  },
  "language_info": {
   "codemirror_mode": {
    "name": "ipython",
    "version": 3
   },
   "file_extension": ".py",
   "mimetype": "text/x-python",
   "name": "python",
   "nbconvert_exporter": "python",
   "pygments_lexer": "ipython3",
   "version": "3.5.2"
  }
 },
 "nbformat": 4,
 "nbformat_minor": 2
}
